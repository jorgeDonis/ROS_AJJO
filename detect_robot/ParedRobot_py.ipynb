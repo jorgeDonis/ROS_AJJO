{
  "nbformat": 4,
  "nbformat_minor": 0,
  "metadata": {
    "colab": {
      "name": "ParedRobot.py.ipynb",
      "provenance": [],
      "collapsed_sections": [
        "bvi9esYmPnqS",
        "Z231n2jyvSBi",
        "iG0w0FNHjrV2",
        "S4DpauQ1Pnqg",
        "Vv_MQFlAPnra",
        "_X9ah4_qS0k5",
        "aMbolJ6nPnsP",
        "XqaU6vkkPWaI",
        "qD7Ti41LqVHF",
        "gvUjIv8yxASv",
        "GGlsAhaBMgXo",
        "IaoAzXY2NLH0",
        "23k9MLBPlk5O",
        "e4r_1AXylk5X",
        "7vFTNiyYDWq_",
        "dAVYfhfY8aoJ",
        "xy2zxcRwkFUm",
        "uxpjfr1rkFUo",
        "wIuzyr3i4KNc"
      ]
    },
    "kernelspec": {
      "name": "python392jvsc74a57bd0e7370f93d1d0cde622a1f8e1c04877d8463912d04d973331ad4851f04de6915a",
      "display_name": "Python 3.9.2 64-bit"
    },
    "accelerator": "GPU",
    "widgets": {
      "application/vnd.jupyter.widget-state+json": {
        "14bba1e12cbd4a33a732c919266c9099": {
          "model_module": "@jupyter-widgets/controls",
          "model_name": "HBoxModel",
          "state": {
            "_view_name": "HBoxView",
            "_dom_classes": [],
            "_model_name": "HBoxModel",
            "_view_module": "@jupyter-widgets/controls",
            "_model_module_version": "1.5.0",
            "_view_count": null,
            "_view_module_version": "1.5.0",
            "box_style": "",
            "layout": "IPY_MODEL_a0341dd0c0124102b7089e6f1cdf1508",
            "_model_module": "@jupyter-widgets/controls",
            "children": [
              "IPY_MODEL_555b4191f7934484bd43f4ada1938e19",
              "IPY_MODEL_e0c2b98b651a4bd6ba966ffbc5d39b61"
            ]
          }
        },
        "a0341dd0c0124102b7089e6f1cdf1508": {
          "model_module": "@jupyter-widgets/base",
          "model_name": "LayoutModel",
          "state": {
            "_view_name": "LayoutView",
            "grid_template_rows": null,
            "right": null,
            "justify_content": null,
            "_view_module": "@jupyter-widgets/base",
            "overflow": null,
            "_model_module_version": "1.2.0",
            "_view_count": null,
            "flex_flow": null,
            "width": null,
            "min_width": null,
            "border": null,
            "align_items": null,
            "bottom": null,
            "_model_module": "@jupyter-widgets/base",
            "top": null,
            "grid_column": null,
            "overflow_y": null,
            "overflow_x": null,
            "grid_auto_flow": null,
            "grid_area": null,
            "grid_template_columns": null,
            "flex": null,
            "_model_name": "LayoutModel",
            "justify_items": null,
            "grid_row": null,
            "max_height": null,
            "align_content": null,
            "visibility": null,
            "align_self": null,
            "height": null,
            "min_height": null,
            "padding": null,
            "grid_auto_rows": null,
            "grid_gap": null,
            "max_width": null,
            "order": null,
            "_view_module_version": "1.2.0",
            "grid_template_areas": null,
            "object_position": null,
            "object_fit": null,
            "grid_auto_columns": null,
            "margin": null,
            "display": null,
            "left": null
          }
        },
        "555b4191f7934484bd43f4ada1938e19": {
          "model_module": "@jupyter-widgets/controls",
          "model_name": "FloatProgressModel",
          "state": {
            "_view_name": "ProgressView",
            "style": "IPY_MODEL_d7afdb8c321143e1bb6e6cb0030b931b",
            "_dom_classes": [],
            "description": "Dl Completed...: 100%",
            "_model_name": "FloatProgressModel",
            "bar_style": "success",
            "max": 1,
            "_view_module": "@jupyter-widgets/controls",
            "_model_module_version": "1.5.0",
            "value": 1,
            "_view_count": null,
            "_view_module_version": "1.5.0",
            "orientation": "horizontal",
            "min": 0,
            "description_tooltip": null,
            "_model_module": "@jupyter-widgets/controls",
            "layout": "IPY_MODEL_77ae1d723dd1442791aedda0f8fd2d8a"
          }
        },
        "e0c2b98b651a4bd6ba966ffbc5d39b61": {
          "model_module": "@jupyter-widgets/controls",
          "model_name": "HTMLModel",
          "state": {
            "_view_name": "HTMLView",
            "style": "IPY_MODEL_324e850d8162470f93d09ddc83dc98e3",
            "_dom_classes": [],
            "description": "",
            "_model_name": "HTMLModel",
            "placeholder": "​",
            "_view_module": "@jupyter-widgets/controls",
            "_model_module_version": "1.5.0",
            "value": " 1/1 [00:32&lt;00:00, 32.36s/ url]",
            "_view_count": null,
            "_view_module_version": "1.5.0",
            "description_tooltip": null,
            "_model_module": "@jupyter-widgets/controls",
            "layout": "IPY_MODEL_3588d25f97b841cdb246f89726b35895"
          }
        },
        "d7afdb8c321143e1bb6e6cb0030b931b": {
          "model_module": "@jupyter-widgets/controls",
          "model_name": "ProgressStyleModel",
          "state": {
            "_view_name": "StyleView",
            "_model_name": "ProgressStyleModel",
            "description_width": "initial",
            "_view_module": "@jupyter-widgets/base",
            "_model_module_version": "1.5.0",
            "_view_count": null,
            "_view_module_version": "1.2.0",
            "bar_color": null,
            "_model_module": "@jupyter-widgets/controls"
          }
        },
        "77ae1d723dd1442791aedda0f8fd2d8a": {
          "model_module": "@jupyter-widgets/base",
          "model_name": "LayoutModel",
          "state": {
            "_view_name": "LayoutView",
            "grid_template_rows": null,
            "right": null,
            "justify_content": null,
            "_view_module": "@jupyter-widgets/base",
            "overflow": null,
            "_model_module_version": "1.2.0",
            "_view_count": null,
            "flex_flow": null,
            "width": null,
            "min_width": null,
            "border": null,
            "align_items": null,
            "bottom": null,
            "_model_module": "@jupyter-widgets/base",
            "top": null,
            "grid_column": null,
            "overflow_y": null,
            "overflow_x": null,
            "grid_auto_flow": null,
            "grid_area": null,
            "grid_template_columns": null,
            "flex": null,
            "_model_name": "LayoutModel",
            "justify_items": null,
            "grid_row": null,
            "max_height": null,
            "align_content": null,
            "visibility": null,
            "align_self": null,
            "height": null,
            "min_height": null,
            "padding": null,
            "grid_auto_rows": null,
            "grid_gap": null,
            "max_width": null,
            "order": null,
            "_view_module_version": "1.2.0",
            "grid_template_areas": null,
            "object_position": null,
            "object_fit": null,
            "grid_auto_columns": null,
            "margin": null,
            "display": null,
            "left": null
          }
        },
        "324e850d8162470f93d09ddc83dc98e3": {
          "model_module": "@jupyter-widgets/controls",
          "model_name": "DescriptionStyleModel",
          "state": {
            "_view_name": "StyleView",
            "_model_name": "DescriptionStyleModel",
            "description_width": "",
            "_view_module": "@jupyter-widgets/base",
            "_model_module_version": "1.5.0",
            "_view_count": null,
            "_view_module_version": "1.2.0",
            "_model_module": "@jupyter-widgets/controls"
          }
        },
        "3588d25f97b841cdb246f89726b35895": {
          "model_module": "@jupyter-widgets/base",
          "model_name": "LayoutModel",
          "state": {
            "_view_name": "LayoutView",
            "grid_template_rows": null,
            "right": null,
            "justify_content": null,
            "_view_module": "@jupyter-widgets/base",
            "overflow": null,
            "_model_module_version": "1.2.0",
            "_view_count": null,
            "flex_flow": null,
            "width": null,
            "min_width": null,
            "border": null,
            "align_items": null,
            "bottom": null,
            "_model_module": "@jupyter-widgets/base",
            "top": null,
            "grid_column": null,
            "overflow_y": null,
            "overflow_x": null,
            "grid_auto_flow": null,
            "grid_area": null,
            "grid_template_columns": null,
            "flex": null,
            "_model_name": "LayoutModel",
            "justify_items": null,
            "grid_row": null,
            "max_height": null,
            "align_content": null,
            "visibility": null,
            "align_self": null,
            "height": null,
            "min_height": null,
            "padding": null,
            "grid_auto_rows": null,
            "grid_gap": null,
            "max_width": null,
            "order": null,
            "_view_module_version": "1.2.0",
            "grid_template_areas": null,
            "object_position": null,
            "object_fit": null,
            "grid_auto_columns": null,
            "margin": null,
            "display": null,
            "left": null
          }
        },
        "ea7a6c1ef5ab4ba8a952cc963514e9b1": {
          "model_module": "@jupyter-widgets/controls",
          "model_name": "HBoxModel",
          "state": {
            "_view_name": "HBoxView",
            "_dom_classes": [],
            "_model_name": "HBoxModel",
            "_view_module": "@jupyter-widgets/controls",
            "_model_module_version": "1.5.0",
            "_view_count": null,
            "_view_module_version": "1.5.0",
            "box_style": "",
            "layout": "IPY_MODEL_30c9ec5960054a2a8e9a83a97ed407eb",
            "_model_module": "@jupyter-widgets/controls",
            "children": [
              "IPY_MODEL_42deffe74f2f4a6e96066f4205aa0587",
              "IPY_MODEL_1019d907f87e44198b4ecfbb9d283501"
            ]
          }
        },
        "30c9ec5960054a2a8e9a83a97ed407eb": {
          "model_module": "@jupyter-widgets/base",
          "model_name": "LayoutModel",
          "state": {
            "_view_name": "LayoutView",
            "grid_template_rows": null,
            "right": null,
            "justify_content": null,
            "_view_module": "@jupyter-widgets/base",
            "overflow": null,
            "_model_module_version": "1.2.0",
            "_view_count": null,
            "flex_flow": null,
            "width": null,
            "min_width": null,
            "border": null,
            "align_items": null,
            "bottom": null,
            "_model_module": "@jupyter-widgets/base",
            "top": null,
            "grid_column": null,
            "overflow_y": null,
            "overflow_x": null,
            "grid_auto_flow": null,
            "grid_area": null,
            "grid_template_columns": null,
            "flex": null,
            "_model_name": "LayoutModel",
            "justify_items": null,
            "grid_row": null,
            "max_height": null,
            "align_content": null,
            "visibility": null,
            "align_self": null,
            "height": null,
            "min_height": null,
            "padding": null,
            "grid_auto_rows": null,
            "grid_gap": null,
            "max_width": null,
            "order": null,
            "_view_module_version": "1.2.0",
            "grid_template_areas": null,
            "object_position": null,
            "object_fit": null,
            "grid_auto_columns": null,
            "margin": null,
            "display": null,
            "left": null
          }
        },
        "42deffe74f2f4a6e96066f4205aa0587": {
          "model_module": "@jupyter-widgets/controls",
          "model_name": "FloatProgressModel",
          "state": {
            "_view_name": "ProgressView",
            "style": "IPY_MODEL_810d9af024fd4422862677fea968ff80",
            "_dom_classes": [],
            "description": "Dl Size...: 100%",
            "_model_name": "FloatProgressModel",
            "bar_style": "success",
            "max": 1,
            "_view_module": "@jupyter-widgets/controls",
            "_model_module_version": "1.5.0",
            "value": 1,
            "_view_count": null,
            "_view_module_version": "1.5.0",
            "orientation": "horizontal",
            "min": 0,
            "description_tooltip": null,
            "_model_module": "@jupyter-widgets/controls",
            "layout": "IPY_MODEL_602889327c904df0b4a174c019bf6871"
          }
        },
        "1019d907f87e44198b4ecfbb9d283501": {
          "model_module": "@jupyter-widgets/controls",
          "model_name": "HTMLModel",
          "state": {
            "_view_name": "HTMLView",
            "style": "IPY_MODEL_629d8ae635d84f088901fa271edc32b4",
            "_dom_classes": [],
            "description": "",
            "_model_name": "HTMLModel",
            "placeholder": "​",
            "_view_module": "@jupyter-widgets/controls",
            "_model_module_version": "1.5.0",
            "value": " 246/246 [00:32&lt;00:00,  7.61 MiB/s]",
            "_view_count": null,
            "_view_module_version": "1.5.0",
            "description_tooltip": null,
            "_model_module": "@jupyter-widgets/controls",
            "layout": "IPY_MODEL_6820b57a08e74e18a2252fcac41ae595"
          }
        },
        "810d9af024fd4422862677fea968ff80": {
          "model_module": "@jupyter-widgets/controls",
          "model_name": "ProgressStyleModel",
          "state": {
            "_view_name": "StyleView",
            "_model_name": "ProgressStyleModel",
            "description_width": "initial",
            "_view_module": "@jupyter-widgets/base",
            "_model_module_version": "1.5.0",
            "_view_count": null,
            "_view_module_version": "1.2.0",
            "bar_color": null,
            "_model_module": "@jupyter-widgets/controls"
          }
        },
        "602889327c904df0b4a174c019bf6871": {
          "model_module": "@jupyter-widgets/base",
          "model_name": "LayoutModel",
          "state": {
            "_view_name": "LayoutView",
            "grid_template_rows": null,
            "right": null,
            "justify_content": null,
            "_view_module": "@jupyter-widgets/base",
            "overflow": null,
            "_model_module_version": "1.2.0",
            "_view_count": null,
            "flex_flow": null,
            "width": null,
            "min_width": null,
            "border": null,
            "align_items": null,
            "bottom": null,
            "_model_module": "@jupyter-widgets/base",
            "top": null,
            "grid_column": null,
            "overflow_y": null,
            "overflow_x": null,
            "grid_auto_flow": null,
            "grid_area": null,
            "grid_template_columns": null,
            "flex": null,
            "_model_name": "LayoutModel",
            "justify_items": null,
            "grid_row": null,
            "max_height": null,
            "align_content": null,
            "visibility": null,
            "align_self": null,
            "height": null,
            "min_height": null,
            "padding": null,
            "grid_auto_rows": null,
            "grid_gap": null,
            "max_width": null,
            "order": null,
            "_view_module_version": "1.2.0",
            "grid_template_areas": null,
            "object_position": null,
            "object_fit": null,
            "grid_auto_columns": null,
            "margin": null,
            "display": null,
            "left": null
          }
        },
        "629d8ae635d84f088901fa271edc32b4": {
          "model_module": "@jupyter-widgets/controls",
          "model_name": "DescriptionStyleModel",
          "state": {
            "_view_name": "StyleView",
            "_model_name": "DescriptionStyleModel",
            "description_width": "",
            "_view_module": "@jupyter-widgets/base",
            "_model_module_version": "1.5.0",
            "_view_count": null,
            "_view_module_version": "1.2.0",
            "_model_module": "@jupyter-widgets/controls"
          }
        },
        "6820b57a08e74e18a2252fcac41ae595": {
          "model_module": "@jupyter-widgets/base",
          "model_name": "LayoutModel",
          "state": {
            "_view_name": "LayoutView",
            "grid_template_rows": null,
            "right": null,
            "justify_content": null,
            "_view_module": "@jupyter-widgets/base",
            "overflow": null,
            "_model_module_version": "1.2.0",
            "_view_count": null,
            "flex_flow": null,
            "width": null,
            "min_width": null,
            "border": null,
            "align_items": null,
            "bottom": null,
            "_model_module": "@jupyter-widgets/base",
            "top": null,
            "grid_column": null,
            "overflow_y": null,
            "overflow_x": null,
            "grid_auto_flow": null,
            "grid_area": null,
            "grid_template_columns": null,
            "flex": null,
            "_model_name": "LayoutModel",
            "justify_items": null,
            "grid_row": null,
            "max_height": null,
            "align_content": null,
            "visibility": null,
            "align_self": null,
            "height": null,
            "min_height": null,
            "padding": null,
            "grid_auto_rows": null,
            "grid_gap": null,
            "max_width": null,
            "order": null,
            "_view_module_version": "1.2.0",
            "grid_template_areas": null,
            "object_position": null,
            "object_fit": null,
            "grid_auto_columns": null,
            "margin": null,
            "display": null,
            "left": null
          }
        },
        "797e84b9c7674964b62c35db12f10748": {
          "model_module": "@jupyter-widgets/controls",
          "model_name": "HBoxModel",
          "state": {
            "_view_name": "HBoxView",
            "_dom_classes": [],
            "_model_name": "HBoxModel",
            "_view_module": "@jupyter-widgets/controls",
            "_model_module_version": "1.5.0",
            "_view_count": null,
            "_view_module_version": "1.5.0",
            "box_style": "",
            "layout": "IPY_MODEL_a910438acbe04706bcf4cad5eb10273b",
            "_model_module": "@jupyter-widgets/controls",
            "children": [
              "IPY_MODEL_720c1537f83443ad951a8582cb529b8a",
              "IPY_MODEL_9a2e0a2ebc5b485faac7bb0ef2e2671b"
            ]
          }
        },
        "a910438acbe04706bcf4cad5eb10273b": {
          "model_module": "@jupyter-widgets/base",
          "model_name": "LayoutModel",
          "state": {
            "_view_name": "LayoutView",
            "grid_template_rows": null,
            "right": null,
            "justify_content": null,
            "_view_module": "@jupyter-widgets/base",
            "overflow": null,
            "_model_module_version": "1.2.0",
            "_view_count": null,
            "flex_flow": null,
            "width": null,
            "min_width": null,
            "border": null,
            "align_items": null,
            "bottom": null,
            "_model_module": "@jupyter-widgets/base",
            "top": null,
            "grid_column": null,
            "overflow_y": null,
            "overflow_x": null,
            "grid_auto_flow": null,
            "grid_area": null,
            "grid_template_columns": null,
            "flex": null,
            "_model_name": "LayoutModel",
            "justify_items": null,
            "grid_row": null,
            "max_height": null,
            "align_content": null,
            "visibility": null,
            "align_self": null,
            "height": null,
            "min_height": null,
            "padding": null,
            "grid_auto_rows": null,
            "grid_gap": null,
            "max_width": null,
            "order": null,
            "_view_module_version": "1.2.0",
            "grid_template_areas": null,
            "object_position": null,
            "object_fit": null,
            "grid_auto_columns": null,
            "margin": null,
            "display": null,
            "left": null
          }
        },
        "720c1537f83443ad951a8582cb529b8a": {
          "model_module": "@jupyter-widgets/controls",
          "model_name": "FloatProgressModel",
          "state": {
            "_view_name": "ProgressView",
            "style": "IPY_MODEL_67014588c0e64755991652885467afe5",
            "_dom_classes": [],
            "description": "Extraction completed...: 100%",
            "_model_name": "FloatProgressModel",
            "bar_style": "success",
            "max": 1,
            "_view_module": "@jupyter-widgets/controls",
            "_model_module_version": "1.5.0",
            "value": 1,
            "_view_count": null,
            "_view_module_version": "1.5.0",
            "orientation": "horizontal",
            "min": 0,
            "description_tooltip": null,
            "_model_module": "@jupyter-widgets/controls",
            "layout": "IPY_MODEL_2519af5821cf4fc0ad3263f3939dc935"
          }
        },
        "9a2e0a2ebc5b485faac7bb0ef2e2671b": {
          "model_module": "@jupyter-widgets/controls",
          "model_name": "HTMLModel",
          "state": {
            "_view_name": "HTMLView",
            "style": "IPY_MODEL_de12f09ea5954abfa2e300e51f752813",
            "_dom_classes": [],
            "description": "",
            "_model_name": "HTMLModel",
            "placeholder": "​",
            "_view_module": "@jupyter-widgets/controls",
            "_model_module_version": "1.5.0",
            "value": " 1/1 [00:32&lt;00:00, 32.30s/ file]",
            "_view_count": null,
            "_view_module_version": "1.5.0",
            "description_tooltip": null,
            "_model_module": "@jupyter-widgets/controls",
            "layout": "IPY_MODEL_b7089b5bb4e3438292e95d9b439504f3"
          }
        },
        "67014588c0e64755991652885467afe5": {
          "model_module": "@jupyter-widgets/controls",
          "model_name": "ProgressStyleModel",
          "state": {
            "_view_name": "StyleView",
            "_model_name": "ProgressStyleModel",
            "description_width": "initial",
            "_view_module": "@jupyter-widgets/base",
            "_model_module_version": "1.5.0",
            "_view_count": null,
            "_view_module_version": "1.2.0",
            "bar_color": null,
            "_model_module": "@jupyter-widgets/controls"
          }
        },
        "2519af5821cf4fc0ad3263f3939dc935": {
          "model_module": "@jupyter-widgets/base",
          "model_name": "LayoutModel",
          "state": {
            "_view_name": "LayoutView",
            "grid_template_rows": null,
            "right": null,
            "justify_content": null,
            "_view_module": "@jupyter-widgets/base",
            "overflow": null,
            "_model_module_version": "1.2.0",
            "_view_count": null,
            "flex_flow": null,
            "width": null,
            "min_width": null,
            "border": null,
            "align_items": null,
            "bottom": null,
            "_model_module": "@jupyter-widgets/base",
            "top": null,
            "grid_column": null,
            "overflow_y": null,
            "overflow_x": null,
            "grid_auto_flow": null,
            "grid_area": null,
            "grid_template_columns": null,
            "flex": null,
            "_model_name": "LayoutModel",
            "justify_items": null,
            "grid_row": null,
            "max_height": null,
            "align_content": null,
            "visibility": null,
            "align_self": null,
            "height": null,
            "min_height": null,
            "padding": null,
            "grid_auto_rows": null,
            "grid_gap": null,
            "max_width": null,
            "order": null,
            "_view_module_version": "1.2.0",
            "grid_template_areas": null,
            "object_position": null,
            "object_fit": null,
            "grid_auto_columns": null,
            "margin": null,
            "display": null,
            "left": null
          }
        },
        "de12f09ea5954abfa2e300e51f752813": {
          "model_module": "@jupyter-widgets/controls",
          "model_name": "DescriptionStyleModel",
          "state": {
            "_view_name": "StyleView",
            "_model_name": "DescriptionStyleModel",
            "description_width": "",
            "_view_module": "@jupyter-widgets/base",
            "_model_module_version": "1.5.0",
            "_view_count": null,
            "_view_module_version": "1.2.0",
            "_model_module": "@jupyter-widgets/controls"
          }
        },
        "b7089b5bb4e3438292e95d9b439504f3": {
          "model_module": "@jupyter-widgets/base",
          "model_name": "LayoutModel",
          "state": {
            "_view_name": "LayoutView",
            "grid_template_rows": null,
            "right": null,
            "justify_content": null,
            "_view_module": "@jupyter-widgets/base",
            "overflow": null,
            "_model_module_version": "1.2.0",
            "_view_count": null,
            "flex_flow": null,
            "width": null,
            "min_width": null,
            "border": null,
            "align_items": null,
            "bottom": null,
            "_model_module": "@jupyter-widgets/base",
            "top": null,
            "grid_column": null,
            "overflow_y": null,
            "overflow_x": null,
            "grid_auto_flow": null,
            "grid_area": null,
            "grid_template_columns": null,
            "flex": null,
            "_model_name": "LayoutModel",
            "justify_items": null,
            "grid_row": null,
            "max_height": null,
            "align_content": null,
            "visibility": null,
            "align_self": null,
            "height": null,
            "min_height": null,
            "padding": null,
            "grid_auto_rows": null,
            "grid_gap": null,
            "max_width": null,
            "order": null,
            "_view_module_version": "1.2.0",
            "grid_template_areas": null,
            "object_position": null,
            "object_fit": null,
            "grid_auto_columns": null,
            "margin": null,
            "display": null,
            "left": null
          }
        },
        "27ff2e3db174406bb4f764dc9a719b97": {
          "model_module": "@jupyter-widgets/controls",
          "model_name": "HBoxModel",
          "state": {
            "_view_name": "HBoxView",
            "_dom_classes": [],
            "_model_name": "HBoxModel",
            "_view_module": "@jupyter-widgets/controls",
            "_model_module_version": "1.5.0",
            "_view_count": null,
            "_view_module_version": "1.5.0",
            "box_style": "",
            "layout": "IPY_MODEL_12eec59799b546fea5af91d695027660",
            "_model_module": "@jupyter-widgets/controls",
            "children": [
              "IPY_MODEL_7996bbcced1f40dfa5bcdf4ea404b6f9",
              "IPY_MODEL_2873e811d0fa4d9285f517124b8ff811"
            ]
          }
        },
        "12eec59799b546fea5af91d695027660": {
          "model_module": "@jupyter-widgets/base",
          "model_name": "LayoutModel",
          "state": {
            "_view_name": "LayoutView",
            "grid_template_rows": null,
            "right": null,
            "justify_content": null,
            "_view_module": "@jupyter-widgets/base",
            "overflow": null,
            "_model_module_version": "1.2.0",
            "_view_count": null,
            "flex_flow": null,
            "width": null,
            "min_width": null,
            "border": null,
            "align_items": null,
            "bottom": null,
            "_model_module": "@jupyter-widgets/base",
            "top": null,
            "grid_column": null,
            "overflow_y": null,
            "overflow_x": null,
            "grid_auto_flow": null,
            "grid_area": null,
            "grid_template_columns": null,
            "flex": null,
            "_model_name": "LayoutModel",
            "justify_items": null,
            "grid_row": null,
            "max_height": null,
            "align_content": null,
            "visibility": null,
            "align_self": null,
            "height": null,
            "min_height": null,
            "padding": null,
            "grid_auto_rows": null,
            "grid_gap": null,
            "max_width": null,
            "order": null,
            "_view_module_version": "1.2.0",
            "grid_template_areas": null,
            "object_position": null,
            "object_fit": null,
            "grid_auto_columns": null,
            "margin": null,
            "display": null,
            "left": null
          }
        },
        "7996bbcced1f40dfa5bcdf4ea404b6f9": {
          "model_module": "@jupyter-widgets/controls",
          "model_name": "FloatProgressModel",
          "state": {
            "_view_name": "ProgressView",
            "style": "IPY_MODEL_fe6fa29199314187b6ea6132cc4b4793",
            "_dom_classes": [],
            "description": "",
            "_model_name": "FloatProgressModel",
            "bar_style": "info",
            "max": 1,
            "_view_module": "@jupyter-widgets/controls",
            "_model_module_version": "1.5.0",
            "value": 1,
            "_view_count": null,
            "_view_module_version": "1.5.0",
            "orientation": "horizontal",
            "min": 0,
            "description_tooltip": null,
            "_model_module": "@jupyter-widgets/controls",
            "layout": "IPY_MODEL_e42c002ae5c24e698cf7f0792661315d"
          }
        },
        "2873e811d0fa4d9285f517124b8ff811": {
          "model_module": "@jupyter-widgets/controls",
          "model_name": "HTMLModel",
          "state": {
            "_view_name": "HTMLView",
            "style": "IPY_MODEL_8467696ecc1649db8c70f0edbbd01f8a",
            "_dom_classes": [],
            "description": "",
            "_model_name": "HTMLModel",
            "placeholder": "​",
            "_view_module": "@jupyter-widgets/controls",
            "_model_module_version": "1.5.0",
            "value": " 5000/0 [00:46&lt;00:00, 158.16 examples/s]",
            "_view_count": null,
            "_view_module_version": "1.5.0",
            "description_tooltip": null,
            "_model_module": "@jupyter-widgets/controls",
            "layout": "IPY_MODEL_0d1a5c297dee4cc7b9941905d05fdb24"
          }
        },
        "fe6fa29199314187b6ea6132cc4b4793": {
          "model_module": "@jupyter-widgets/controls",
          "model_name": "ProgressStyleModel",
          "state": {
            "_view_name": "StyleView",
            "_model_name": "ProgressStyleModel",
            "description_width": "initial",
            "_view_module": "@jupyter-widgets/base",
            "_model_module_version": "1.5.0",
            "_view_count": null,
            "_view_module_version": "1.2.0",
            "bar_color": null,
            "_model_module": "@jupyter-widgets/controls"
          }
        },
        "e42c002ae5c24e698cf7f0792661315d": {
          "model_module": "@jupyter-widgets/base",
          "model_name": "LayoutModel",
          "state": {
            "_view_name": "LayoutView",
            "grid_template_rows": null,
            "right": null,
            "justify_content": null,
            "_view_module": "@jupyter-widgets/base",
            "overflow": null,
            "_model_module_version": "1.2.0",
            "_view_count": null,
            "flex_flow": null,
            "width": null,
            "min_width": null,
            "border": null,
            "align_items": null,
            "bottom": null,
            "_model_module": "@jupyter-widgets/base",
            "top": null,
            "grid_column": null,
            "overflow_y": null,
            "overflow_x": null,
            "grid_auto_flow": null,
            "grid_area": null,
            "grid_template_columns": null,
            "flex": null,
            "_model_name": "LayoutModel",
            "justify_items": null,
            "grid_row": null,
            "max_height": null,
            "align_content": null,
            "visibility": null,
            "align_self": null,
            "height": null,
            "min_height": null,
            "padding": null,
            "grid_auto_rows": null,
            "grid_gap": null,
            "max_width": null,
            "order": null,
            "_view_module_version": "1.2.0",
            "grid_template_areas": null,
            "object_position": null,
            "object_fit": null,
            "grid_auto_columns": null,
            "margin": null,
            "display": null,
            "left": null
          }
        },
        "8467696ecc1649db8c70f0edbbd01f8a": {
          "model_module": "@jupyter-widgets/controls",
          "model_name": "DescriptionStyleModel",
          "state": {
            "_view_name": "StyleView",
            "_model_name": "DescriptionStyleModel",
            "description_width": "",
            "_view_module": "@jupyter-widgets/base",
            "_model_module_version": "1.5.0",
            "_view_count": null,
            "_view_module_version": "1.2.0",
            "_model_module": "@jupyter-widgets/controls"
          }
        },
        "0d1a5c297dee4cc7b9941905d05fdb24": {
          "model_module": "@jupyter-widgets/base",
          "model_name": "LayoutModel",
          "state": {
            "_view_name": "LayoutView",
            "grid_template_rows": null,
            "right": null,
            "justify_content": null,
            "_view_module": "@jupyter-widgets/base",
            "overflow": null,
            "_model_module_version": "1.2.0",
            "_view_count": null,
            "flex_flow": null,
            "width": null,
            "min_width": null,
            "border": null,
            "align_items": null,
            "bottom": null,
            "_model_module": "@jupyter-widgets/base",
            "top": null,
            "grid_column": null,
            "overflow_y": null,
            "overflow_x": null,
            "grid_auto_flow": null,
            "grid_area": null,
            "grid_template_columns": null,
            "flex": null,
            "_model_name": "LayoutModel",
            "justify_items": null,
            "grid_row": null,
            "max_height": null,
            "align_content": null,
            "visibility": null,
            "align_self": null,
            "height": null,
            "min_height": null,
            "padding": null,
            "grid_auto_rows": null,
            "grid_gap": null,
            "max_width": null,
            "order": null,
            "_view_module_version": "1.2.0",
            "grid_template_areas": null,
            "object_position": null,
            "object_fit": null,
            "grid_auto_columns": null,
            "margin": null,
            "display": null,
            "left": null
          }
        },
        "93f645b5d3364ca7bd928a465a61ab08": {
          "model_module": "@jupyter-widgets/controls",
          "model_name": "HBoxModel",
          "state": {
            "_view_name": "HBoxView",
            "_dom_classes": [],
            "_model_name": "HBoxModel",
            "_view_module": "@jupyter-widgets/controls",
            "_model_module_version": "1.5.0",
            "_view_count": null,
            "_view_module_version": "1.5.0",
            "box_style": "",
            "layout": "IPY_MODEL_a1d81d89fadf427d82d2a659dcb6d370",
            "_model_module": "@jupyter-widgets/controls",
            "children": [
              "IPY_MODEL_0ee0c8078fd245769dce0f3ab93b343f",
              "IPY_MODEL_ee027fc5168844959433608fed86e50e"
            ]
          }
        },
        "a1d81d89fadf427d82d2a659dcb6d370": {
          "model_module": "@jupyter-widgets/base",
          "model_name": "LayoutModel",
          "state": {
            "_view_name": "LayoutView",
            "grid_template_rows": null,
            "right": null,
            "justify_content": null,
            "_view_module": "@jupyter-widgets/base",
            "overflow": null,
            "_model_module_version": "1.2.0",
            "_view_count": null,
            "flex_flow": null,
            "width": null,
            "min_width": null,
            "border": null,
            "align_items": null,
            "bottom": null,
            "_model_module": "@jupyter-widgets/base",
            "top": null,
            "grid_column": null,
            "overflow_y": null,
            "overflow_x": null,
            "grid_auto_flow": null,
            "grid_area": null,
            "grid_template_columns": null,
            "flex": null,
            "_model_name": "LayoutModel",
            "justify_items": null,
            "grid_row": null,
            "max_height": null,
            "align_content": null,
            "visibility": null,
            "align_self": null,
            "height": null,
            "min_height": null,
            "padding": null,
            "grid_auto_rows": null,
            "grid_gap": null,
            "max_width": null,
            "order": null,
            "_view_module_version": "1.2.0",
            "grid_template_areas": null,
            "object_position": null,
            "object_fit": null,
            "grid_auto_columns": null,
            "margin": null,
            "display": null,
            "left": null
          }
        },
        "0ee0c8078fd245769dce0f3ab93b343f": {
          "model_module": "@jupyter-widgets/controls",
          "model_name": "FloatProgressModel",
          "state": {
            "_view_name": "ProgressView",
            "style": "IPY_MODEL_33cdc818b0b74571a1c356e5dcbbfb6f",
            "_dom_classes": [],
            "description": " 77%",
            "_model_name": "FloatProgressModel",
            "bar_style": "danger",
            "max": 5000,
            "_view_module": "@jupyter-widgets/controls",
            "_model_module_version": "1.5.0",
            "value": 3841,
            "_view_count": null,
            "_view_module_version": "1.5.0",
            "orientation": "horizontal",
            "min": 0,
            "description_tooltip": null,
            "_model_module": "@jupyter-widgets/controls",
            "layout": "IPY_MODEL_5ac0d6c45c8844ea9ddac3f58e760c40"
          }
        },
        "ee027fc5168844959433608fed86e50e": {
          "model_module": "@jupyter-widgets/controls",
          "model_name": "HTMLModel",
          "state": {
            "_view_name": "HTMLView",
            "style": "IPY_MODEL_7168b0529a344a6da8b0000504c9d5e8",
            "_dom_classes": [],
            "description": "",
            "_model_name": "HTMLModel",
            "placeholder": "​",
            "_view_module": "@jupyter-widgets/controls",
            "_model_module_version": "1.5.0",
            "value": " 3841/5000 [00:00&lt;00:00, 16757.84 examples/s]",
            "_view_count": null,
            "_view_module_version": "1.5.0",
            "description_tooltip": null,
            "_model_module": "@jupyter-widgets/controls",
            "layout": "IPY_MODEL_83332454004542a59479035d367603b9"
          }
        },
        "33cdc818b0b74571a1c356e5dcbbfb6f": {
          "model_module": "@jupyter-widgets/controls",
          "model_name": "ProgressStyleModel",
          "state": {
            "_view_name": "StyleView",
            "_model_name": "ProgressStyleModel",
            "description_width": "initial",
            "_view_module": "@jupyter-widgets/base",
            "_model_module_version": "1.5.0",
            "_view_count": null,
            "_view_module_version": "1.2.0",
            "bar_color": null,
            "_model_module": "@jupyter-widgets/controls"
          }
        },
        "5ac0d6c45c8844ea9ddac3f58e760c40": {
          "model_module": "@jupyter-widgets/base",
          "model_name": "LayoutModel",
          "state": {
            "_view_name": "LayoutView",
            "grid_template_rows": null,
            "right": null,
            "justify_content": null,
            "_view_module": "@jupyter-widgets/base",
            "overflow": null,
            "_model_module_version": "1.2.0",
            "_view_count": null,
            "flex_flow": null,
            "width": null,
            "min_width": null,
            "border": null,
            "align_items": null,
            "bottom": null,
            "_model_module": "@jupyter-widgets/base",
            "top": null,
            "grid_column": null,
            "overflow_y": null,
            "overflow_x": null,
            "grid_auto_flow": null,
            "grid_area": null,
            "grid_template_columns": null,
            "flex": null,
            "_model_name": "LayoutModel",
            "justify_items": null,
            "grid_row": null,
            "max_height": null,
            "align_content": null,
            "visibility": null,
            "align_self": null,
            "height": null,
            "min_height": null,
            "padding": null,
            "grid_auto_rows": null,
            "grid_gap": null,
            "max_width": null,
            "order": null,
            "_view_module_version": "1.2.0",
            "grid_template_areas": null,
            "object_position": null,
            "object_fit": null,
            "grid_auto_columns": null,
            "margin": null,
            "display": null,
            "left": null
          }
        },
        "7168b0529a344a6da8b0000504c9d5e8": {
          "model_module": "@jupyter-widgets/controls",
          "model_name": "DescriptionStyleModel",
          "state": {
            "_view_name": "StyleView",
            "_model_name": "DescriptionStyleModel",
            "description_width": "",
            "_view_module": "@jupyter-widgets/base",
            "_model_module_version": "1.5.0",
            "_view_count": null,
            "_view_module_version": "1.2.0",
            "_model_module": "@jupyter-widgets/controls"
          }
        },
        "83332454004542a59479035d367603b9": {
          "model_module": "@jupyter-widgets/base",
          "model_name": "LayoutModel",
          "state": {
            "_view_name": "LayoutView",
            "grid_template_rows": null,
            "right": null,
            "justify_content": null,
            "_view_module": "@jupyter-widgets/base",
            "overflow": null,
            "_model_module_version": "1.2.0",
            "_view_count": null,
            "flex_flow": null,
            "width": null,
            "min_width": null,
            "border": null,
            "align_items": null,
            "bottom": null,
            "_model_module": "@jupyter-widgets/base",
            "top": null,
            "grid_column": null,
            "overflow_y": null,
            "overflow_x": null,
            "grid_auto_flow": null,
            "grid_area": null,
            "grid_template_columns": null,
            "flex": null,
            "_model_name": "LayoutModel",
            "justify_items": null,
            "grid_row": null,
            "max_height": null,
            "align_content": null,
            "visibility": null,
            "align_self": null,
            "height": null,
            "min_height": null,
            "padding": null,
            "grid_auto_rows": null,
            "grid_gap": null,
            "max_width": null,
            "order": null,
            "_view_module_version": "1.2.0",
            "grid_template_areas": null,
            "object_position": null,
            "object_fit": null,
            "grid_auto_columns": null,
            "margin": null,
            "display": null,
            "left": null
          }
        }
      }
    },
    "metadata": {
      "interpreter": {
        "hash": "e7370f93d1d0cde622a1f8e1c04877d8463912d04d973331ad4851f04de6915a"
      }
    }
  },
  "cells": [
    {
      "cell_type": "markdown",
      "metadata": {
        "id": "bvi9esYmPnqS"
      },
      "source": [
        "# Diferenciación entre robot y pared"
      ]
    },
    {
      "cell_type": "code",
      "metadata": {
        "id": "U02xLDY7JuI6"
      },
      "source": [
        "!pip install -q keras sklearn"
      ],
      "execution_count": 68,
      "outputs": []
    },
    {
      "cell_type": "markdown",
      "metadata": {
        "id": "S4DpauQ1Pnqg"
      },
      "source": [
        "### Import packages"
      ]
    },
    {
      "cell_type": "code",
      "metadata": {
        "id": "ja_tpjokPnqs"
      },
      "source": [
        "import matplotlib.pyplot as plt\n",
        "import numpy as np\n",
        "import collections\n",
        "from keras.callbacks import EarlyStopping\n",
        "import cv2, glob\n",
        "\n",
        "import sklearn\n",
        "from sklearn.model_selection import train_test_split\n",
        "from sklearn import metrics\n",
        "from sklearn.model_selection import StratifiedKFold\n",
        "\n",
        "import tensorflow as tf\n",
        "import pathlib\n",
        "\n",
        "from tensorflow import keras\n",
        "from tensorflow.keras.models import Sequential\n",
        "from tensorflow.keras import layers"
      ],
      "execution_count": 69,
      "outputs": []
    },
    {
      "cell_type": "markdown",
      "metadata": {
        "id": "aaerFdQivcda"
      },
      "source": [
        "### Define global constants"
      ]
    },
    {
      "cell_type": "code",
      "metadata": {
        "id": "74KODoafPnq-",
        "colab": {
          "base_uri": "https://localhost:8080/",
          "height": 237
        },
        "outputId": "15e3e845-b8bb-44d9-ebbd-d5a93de4ac26"
      },
      "source": [
        "batch_size = 32\n",
        "epochs = 1\n",
        "\n",
        "activation_function = \"tanh\"\n",
        "optimizer_function = \"adamax\"\n",
        "\n",
        "# Scaling input image to theses dimensions\n",
        "img_rows, img_cols = 128, 64"
      ],
      "execution_count": 70,
      "outputs": []
    },
    {
      "cell_type": "code",
      "execution_count": 71,
      "metadata": {},
      "outputs": [],
      "source": [
        "def balance_ds(X, Y):\n",
        "    robot_indices = [i for i, x in enumerate(Y) if np.array_equal(x, [0, 1])]\n",
        "    wall_indices = [i for i, x in enumerate(Y) if np.array_equal(x, [1, 0])]\n",
        "    final_samples_per_class = min(len(robot_indices), len(wall_indices))\n",
        "    new_X = []\n",
        "    new_Y = []\n",
        "    for i in range(0, round(final_samples_per_class / 2)):\n",
        "        new_X.append(X[robot_indices[i]])\n",
        "        new_Y.append(Y[robot_indices[i]])\n",
        "        new_X.append(X[wall_indices[i]])\n",
        "        new_Y.append(Y[wall_indices[i]])\n",
        "    return np.array(new_X), np.array(new_Y)"
      ]
    },
    {
      "cell_type": "code",
      "execution_count": 72,
      "metadata": {},
      "outputs": [],
      "source": [
        "def readImg(nameImg):\n",
        "    img = cv2.imread(nameImg)\n",
        "    img = cv2.cvtColor(img, cv2.COLOR_BGR2GRAY)\n",
        "    img = np.delete(img, slice(0, 100), 0)\n",
        "    img = np.delete(img, slice(290, img.shape[0]), 0)\n",
        "    print(img.shape)\n",
        "    img = cv2.resize(img, (img_rows, img_cols), interpolation=cv2.INTER_LANCZOS4)\n",
        "    print(img.shape)\n",
        "    img = np.reshape(img, (img.shape[0], img.shape[1], 1))\n",
        "    img = img / 255\n",
        "    return img"
      ]
    },
    {
      "cell_type": "code",
      "execution_count": 73,
      "metadata": {
        "tags": []
      },
      "outputs": [],
      "source": [
        "def load_data():\n",
        "    robotNP = list()\n",
        "    paredNP = list()\n",
        "\n",
        "    for nameImg in glob.glob('clases/Pared/*'):\n",
        "        paredNP.append(readImg(nameImg))\n",
        "    for nameImg in glob.glob('clases/Robot/*'):\n",
        "        robotNP.append(readImg(nameImg))\n",
        "\n",
        "    X = list()\n",
        "    y = list()\n",
        "\n",
        "    for item in paredNP:\n",
        "        X.append(item)\n",
        "        y.append(0)\n",
        "\n",
        "    for item in robotNP:\n",
        "        X.append(item)\n",
        "        y.append(1)\n",
        "\n",
        "    return np.array(X), np.array(y)"
      ]
    },
    {
      "cell_type": "markdown",
      "metadata": {
        "id": "13d8a5rEPnrR"
      },
      "source": [
        "### Plot images"
      ]
    },
    {
      "cell_type": "code",
      "metadata": {
        "id": "ewe7m5EdPnrS"
      },
      "source": [
        "def plot_symbols(img,name):\n",
        "  cv2.imshow(name, img)\n",
        "  cv2.waitKey(0)\n",
        "  cv2.destroyAllWindows()  "
      ],
      "execution_count": 74,
      "outputs": []
    },
    {
      "cell_type": "code",
      "metadata": {
        "id": "YDUlivhoPnrd"
      },
      "source": [
        "\n",
        "def cnn_model():\n",
        "    \n",
        "    model = Sequential()\n",
        "\n",
        "\n",
        "    model.add(layers.Conv2D(6, (5, 5)))\n",
        "    model.add(layers.Activation(activation_function))\n",
        "    model.add(layers.MaxPooling2D(pool_size=(2, 2)))\n",
        "    \n",
        "    model.add(layers.Conv2D(16, (5, 5)))\n",
        "    model.add(layers.Activation(activation_function))\n",
        "    model.add(layers.MaxPooling2D(pool_size=(2, 2)))\n",
        "        \n",
        "    model.add(layers.Flatten())\n",
        "    \n",
        "    model.add(layers.Dense(120))\n",
        "    model.add(layers.Activation(activation_function))\n",
        "    \n",
        "    model.add(layers.Dense(84))\n",
        "    model.add(layers.Activation(activation_function))\n",
        "    \n",
        "    model.add(layers.Dense(2))\n",
        "    model.add(layers.Activation('softmax'))\n",
        "\n",
        "    return model"
      ],
      "execution_count": 75,
      "outputs": []
    },
    {
      "cell_type": "markdown",
      "metadata": {
        "id": "2SeSisCUPnrm"
      },
      "source": [
        "### Load data"
      ]
    },
    {
      "cell_type": "code",
      "metadata": {
        "id": "IIAyRQwYPnrq",
        "colab": {
          "base_uri": "https://localhost:8080/",
          "height": 353,
          "referenced_widgets": [
            "14bba1e12cbd4a33a732c919266c9099",
            "a0341dd0c0124102b7089e6f1cdf1508",
            "555b4191f7934484bd43f4ada1938e19",
            "e0c2b98b651a4bd6ba966ffbc5d39b61",
            "d7afdb8c321143e1bb6e6cb0030b931b",
            "77ae1d723dd1442791aedda0f8fd2d8a",
            "324e850d8162470f93d09ddc83dc98e3",
            "3588d25f97b841cdb246f89726b35895",
            "ea7a6c1ef5ab4ba8a952cc963514e9b1",
            "30c9ec5960054a2a8e9a83a97ed407eb",
            "42deffe74f2f4a6e96066f4205aa0587",
            "1019d907f87e44198b4ecfbb9d283501",
            "810d9af024fd4422862677fea968ff80",
            "602889327c904df0b4a174c019bf6871",
            "629d8ae635d84f088901fa271edc32b4",
            "6820b57a08e74e18a2252fcac41ae595",
            "797e84b9c7674964b62c35db12f10748",
            "a910438acbe04706bcf4cad5eb10273b",
            "720c1537f83443ad951a8582cb529b8a",
            "9a2e0a2ebc5b485faac7bb0ef2e2671b",
            "67014588c0e64755991652885467afe5",
            "2519af5821cf4fc0ad3263f3939dc935",
            "de12f09ea5954abfa2e300e51f752813",
            "b7089b5bb4e3438292e95d9b439504f3",
            "27ff2e3db174406bb4f764dc9a719b97",
            "12eec59799b546fea5af91d695027660",
            "7996bbcced1f40dfa5bcdf4ea404b6f9",
            "2873e811d0fa4d9285f517124b8ff811",
            "fe6fa29199314187b6ea6132cc4b4793",
            "e42c002ae5c24e698cf7f0792661315d",
            "8467696ecc1649db8c70f0edbbd01f8a",
            "0d1a5c297dee4cc7b9941905d05fdb24",
            "93f645b5d3364ca7bd928a465a61ab08",
            "a1d81d89fadf427d82d2a659dcb6d370",
            "0ee0c8078fd245769dce0f3ab93b343f",
            "ee027fc5168844959433608fed86e50e",
            "33cdc818b0b74571a1c356e5dcbbfb6f",
            "5ac0d6c45c8844ea9ddac3f58e760c40",
            "7168b0529a344a6da8b0000504c9d5e8",
            "83332454004542a59479035d367603b9"
          ]
        },
        "outputId": "3a9bf4fa-9d7e-4a28-d1ce-c132e443d46c"
      },
      "source": [
        "X, y = load_data()"
      ],
      "execution_count": 76,
      "outputs": []
    },
    {
      "cell_type": "markdown",
      "metadata": {
        "id": "O7TWa87DSjbo"
      },
      "source": [
        "### Split examples in training/test sets"
      ]
    },
    {
      "cell_type": "code",
      "execution_count": 77,
      "metadata": {},
      "outputs": [],
      "source": [
        "# (shuffle)\n",
        "def zafel(X, y):\n",
        "    index = np.arange(y.size)\n",
        "    np.random.shuffle(index)\n",
        "    X_old = np.copy(X)\n",
        "    y_old = np.copy(y) \n",
        "\n",
        "    for i in range(y.size):\n",
        "        X[i] = X_old[index[i]] \n",
        "        y[i] = y_old[index[i]] \n",
        "    return X, y\n"
      ]
    },
    {
      "cell_type": "code",
      "metadata": {
        "colab": {
          "base_uri": "https://localhost:8080/"
        },
        "id": "qOaU6YV4Q22H",
        "outputId": "1b1097b5-1b47-43ef-b938-0b7454160bd0"
      },
      "source": [
        "X, y = zafel(X,y)\n",
        "\n",
        "X_train, X_test, y_train, y_test = train_test_split(X, y, test_size=0.25, random_state=42)\n",
        "\n",
        "# Convert integers to one-hot vector\n",
        "y_train_nn = keras.utils.to_categorical(y_train, 2)\n",
        "y_test_nn = keras.utils.to_categorical(y_test, 2)\n",
        "y_nn = keras.utils.to_categorical(y, 2)\n",
        "X, y_nn = balance_ds(X, y_nn)\n",
        "\n",
        "print(\"X_train {} X_test {}\".format(X_train.shape, X_test.shape))\n",
        "print('y_train {} y_test {}'.format(y_train.shape ,y_test.shape))"
      ],
      "execution_count": 78,
      "outputs": [
        {
          "output_type": "stream",
          "name": "stdout",
          "text": [
            "X_train (512, 64, 128, 1) X_test (171, 64, 128, 1)\ny_train (512,) y_test (171,)\n"
          ]
        }
      ]
    },
    {
      "cell_type": "markdown",
      "metadata": {
        "id": "T-jVXmi8Pnr_"
      },
      "source": [
        "## Model and optimizers (choose one)"
      ]
    },
    {
      "cell_type": "code",
      "execution_count": 79,
      "metadata": {},
      "outputs": [],
      "source": [
        "### Simple"
      ]
    },
    {
      "cell_type": "code",
      "metadata": {
        "colab": {
          "base_uri": "https://localhost:8080/"
        },
        "id": "_81WAbj4if0n",
        "outputId": "5ad40c67-b1df-4bbb-a082-6631e8c69a1b"
      },
      "source": [
        "\n",
        "model = cnn_model()\n",
        "\n",
        "model.compile(loss='categorical_crossentropy',optimizer=optimizer_function, metrics=['accuracy'])\n",
        "early_stopping = EarlyStopping(monitor='val_loss', patience=10)\n",
        "model.fit(X_train, y_train_nn, batch_size=batch_size, epochs=epochs, validation_split=0.1, verbose=2, callbacks=[early_stopping])\n",
        "\n",
        "\n",
        "scores = model.evaluate(X_test, y_test_nn, verbose=0)\n",
        "print(' {} of {}; {} of {}%'.format(model.metrics_names[0],scores[0],model.metrics_names[1],scores[1]*100))\n",
        "acc = scores[1] * 100\n",
        "loss = scores[0]\n",
        "\n",
        "#print(model.summary())"
      ],
      "execution_count": 80,
      "outputs": [
        {
          "output_type": "stream",
          "name": "stdout",
          "text": [
            "15/15 - 5s - loss: 0.6471 - accuracy: 0.7435 - val_loss: 0.2607 - val_accuracy: 0.9423\n",
            "Exception ignored in: <function WeakKeyDictionary.__init__.<locals>.remove at 0x7f88b9f5e8b0>\n",
            "Traceback (most recent call last):\n",
            "  File \"/usr/lib/python3.9/weakref.py\", line 367, in remove\n",
            "    def remove(k, selfref=ref(self)):\n",
            "KeyboardInterrupt: \n",
            " loss of 0.3021147847175598; accuracy of 90.05848169326782%\n"
          ]
        }
      ]
    },
    {
      "cell_type": "code",
      "metadata": {
        "colab": {
          "base_uri": "https://localhost:8080/"
        },
        "id": "HkjDxW77if0o",
        "outputId": "bdc5e23b-3bf2-4bf4-9f19-d1c4bf7689bf"
      },
      "source": [
        "y_scores = model.predict(X_test) # Confidence prediction per class\n",
        "y_pred = y_scores.argmax(axis=1) # Select classes with most confidence prediction\n",
        "\n",
        "\n",
        "print(y_pred.shape)\n",
        "print(\"Acc {}\".format(acc))\n",
        "print(\"Loss {}\".format(loss))\n",
        "\n",
        "loss, acc = model.evaluate(X_test, y_test_nn, batch_size=batch_size)\n",
        "print('loss: {} acc: {}'.format(loss,acc))"
      ],
      "execution_count": 48,
      "outputs": [
        {
          "output_type": "stream",
          "name": "stdout",
          "text": [
            "(90,)\n",
            "Acc 100.0\n",
            "Loss 0.0038408918771892786\n",
            "3/3 [==============================] - 0s 6ms/step - accuracy: 1.0000 - loss: 0.0038\n",
            "loss: 0.0038408918771892786 acc: 1.0\n"
          ]
        }
      ]
    },
    {
      "cell_type": "code",
      "metadata": {
        "id": "PNzMlYbEhaCE",
        "colab": {
          "base_uri": "https://localhost:8080/"
        },
        "outputId": "e258d00e-150f-40fb-bb8f-a6f05760cd9b"
      },
      "source": [
        "print('Predictions', collections.Counter(y_pred),'\\n')\n",
        "\n",
        "print('Confusion matrix')\n",
        "print(metrics.confusion_matrix(y_test,y_pred),'\\n')\n",
        "\n",
        "target_names = ['PARED', 'ROBOT']\n",
        "\n",
        "print(metrics.classification_report(y_test, y_pred, target_names=target_names))"
      ],
      "execution_count": 49,
      "outputs": [
        {
          "output_type": "stream",
          "name": "stdout",
          "text": [
            "Predictions Counter({1: 47, 0: 43}) \n\nConfusion matrix\n[[43  0]\n [ 0 47]] \n\n              precision    recall  f1-score   support\n\n       PARED       1.00      1.00      1.00        43\n       ROBOT       1.00      1.00      1.00        47\n\n    accuracy                           1.00        90\n   macro avg       1.00      1.00      1.00        90\nweighted avg       1.00      1.00      1.00        90\n\n"
          ]
        }
      ]
    },
    {
      "cell_type": "code",
      "metadata": {
        "id": "vXw4WQX0Pnr0",
        "colab": {
          "base_uri": "https://localhost:8080/",
          "height": 241
        },
        "outputId": "ca9d84cd-0dae-42cb-e132-25280231fe34"
      },
      "source": [
        "#print(y_pred)\n",
        "#for i in range(y_pred.size):\\n\",\n",
        "    #plot_symbols(X_test[i],\"windiw{}\".format(i)) #mostrar en X capa y no en la 1a\n",
        "#plot_symbols_it(it,15)"
      ],
      "execution_count": 50,
      "outputs": []
    },
    {
      "cell_type": "code",
      "execution_count": null,
      "metadata": {},
      "outputs": [],
      "source": [
        "model.fit(X, y_nn, batch_size = batch_size, epochs = epochs)\n",
        "model.save('tf_model_driving.h5', include_optimizer=False)\n",
        "        "
      ]
    }
  ]
}